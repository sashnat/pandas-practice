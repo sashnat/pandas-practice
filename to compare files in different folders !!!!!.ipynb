{
 "cells": [
  {
   "cell_type": "code",
   "execution_count": 108,
   "metadata": {},
   "outputs": [],
   "source": [
    "import pandas as pd\n",
    "import numpy as np\n",
    "import seaborn as sns\n",
    "import os\n"
   ]
  },
  {
   "cell_type": "code",
   "execution_count": 109,
   "metadata": {
    "collapsed": true
   },
   "outputs": [],
   "source": [
    "directory1 = r'C:\\Users\\PycharmProjects\\all for work'\n",
    "files1 = os.listdir(directory1)\n",
    "s1 = set(files1)\n",
    "\n"
   ]
  },
  {
   "cell_type": "code",
   "execution_count": 110,
   "metadata": {},
   "outputs": [],
   "source": [
    "directory2 = r'C:\\Users\\PycharmProjects\\pandas-practice-master'\n",
    "files2 = os.listdir(directory2)\n",
    "s2 = set(files2)"
   ]
  },
  {
   "cell_type": "code",
   "execution_count": 111,
   "metadata": {},
   "outputs": [],
   "source": [
    "# Симметричная разница между множествами А и В — это множество с элементами, \n",
    "# которые находятся в А и В, за исключением тех элементов, которые являются общими для обеих множеств. \n",
    "# Это определяется использованием метода Python под названием symmetric_difference(), или оператора ^."
   ]
  },
  {
   "cell_type": "code",
   "execution_count": 112,
   "metadata": {},
   "outputs": [
    {
     "data": {
      "text/plain": [
       "24"
      ]
     },
     "execution_count": 112,
     "metadata": {},
     "output_type": "execute_result"
    }
   ],
   "source": [
    "result1 = s1 ^ s2\n",
    "len(result1)"
   ]
  },
  {
   "cell_type": "code",
   "execution_count": 113,
   "metadata": {},
   "outputs": [
    {
     "data": {
      "text/plain": [
       "24"
      ]
     },
     "execution_count": 113,
     "metadata": {},
     "output_type": "execute_result"
    }
   ],
   "source": [
    "# there is the same result\n",
    "result2 = s2 ^ s1\n",
    "len(result2)"
   ]
  },
  {
   "cell_type": "code",
   "execution_count": 114,
   "metadata": {},
   "outputs": [],
   "source": [
    "p1 = sorted(list(s1)) # list(filter(function, iterable)\n",
    "df1 = pd.DataFrame({ 'file' : p1, 'where' : os.path.basename(directory1)})  \n",
    "# os.path.basename(directory1) get the name of the folder which contains the file I'm working with\n",
    "#df1\n"
   ]
  },
  {
   "cell_type": "code",
   "execution_count": 115,
   "metadata": {},
   "outputs": [],
   "source": [
    "p2 = sorted(list(s2)) # list(filter(function, iterable)\n",
    "df2 = pd.DataFrame({ 'file' : p2, 'where' : os.path.basename(directory2)})\n",
    "#df2"
   ]
  },
  {
   "cell_type": "code",
   "execution_count": 116,
   "metadata": {},
   "outputs": [
    {
     "data": {
      "text/html": [
       "<div>\n",
       "<style scoped>\n",
       "    .dataframe tbody tr th:only-of-type {\n",
       "        vertical-align: middle;\n",
       "    }\n",
       "\n",
       "    .dataframe tbody tr th {\n",
       "        vertical-align: top;\n",
       "    }\n",
       "\n",
       "    .dataframe thead th {\n",
       "        text-align: right;\n",
       "    }\n",
       "</style>\n",
       "<table border=\"1\" class=\"dataframe\">\n",
       "  <thead>\n",
       "    <tr style=\"text-align: right;\">\n",
       "      <th></th>\n",
       "      <th>file_name</th>\n",
       "      <th>where</th>\n",
       "    </tr>\n",
       "  </thead>\n",
       "  <tbody>\n",
       "    <tr>\n",
       "      <th>0</th>\n",
       "      <td>search for the data in another file and put it...</td>\n",
       "      <td>all for work</td>\n",
       "    </tr>\n",
       "    <tr>\n",
       "      <th>1</th>\n",
       "      <td>test.py</td>\n",
       "      <td>all for work</td>\n",
       "    </tr>\n",
       "    <tr>\n",
       "      <th>2</th>\n",
       "      <td>studentgrades.csv</td>\n",
       "      <td>all for work</td>\n",
       "    </tr>\n",
       "    <tr>\n",
       "      <th>3</th>\n",
       "      <td>concatinating databases _ diff sizes.ipynb</td>\n",
       "      <td>all for work</td>\n",
       "    </tr>\n",
       "    <tr>\n",
       "      <th>4</th>\n",
       "      <td>to compare files !!!!.xlsx</td>\n",
       "      <td>all for work</td>\n",
       "    </tr>\n",
       "    <tr>\n",
       "      <th>5</th>\n",
       "      <td>all eqs.xlsx</td>\n",
       "      <td>all for work</td>\n",
       "    </tr>\n",
       "    <tr>\n",
       "      <th>6</th>\n",
       "      <td>concatinating databases _ one sheet..ipynb</td>\n",
       "      <td>all for work</td>\n",
       "    </tr>\n",
       "    <tr>\n",
       "      <th>7</th>\n",
       "      <td>to compare files in different folders !!!!!.ipynb</td>\n",
       "      <td>all for work</td>\n",
       "    </tr>\n",
       "    <tr>\n",
       "      <th>8</th>\n",
       "      <td>concatinating databases git.ipynb</td>\n",
       "      <td>all for work</td>\n",
       "    </tr>\n",
       "    <tr>\n",
       "      <th>9</th>\n",
       "      <td>concatinating databases.ipynb</td>\n",
       "      <td>all for work</td>\n",
       "    </tr>\n",
       "    <tr>\n",
       "      <th>10</th>\n",
       "      <td>to compare files_diff sizes!!!!.xlsx</td>\n",
       "      <td>all for work</td>\n",
       "    </tr>\n",
       "    <tr>\n",
       "      <th>11</th>\n",
       "      <td>to compare files_one sheet!!!!.xlsx</td>\n",
       "      <td>all for work</td>\n",
       "    </tr>\n",
       "    <tr>\n",
       "      <th>12</th>\n",
       "      <td>concatinating databases New.ipynb</td>\n",
       "      <td>all for work</td>\n",
       "    </tr>\n",
       "  </tbody>\n",
       "</table>\n",
       "</div>"
      ],
      "text/plain": [
       "<div>\n",
       "<style scoped>\n",
       "    .dataframe tbody tr th:only-of-type {\n",
       "        vertical-align: middle;\n",
       "    }\n",
       "\n",
       "    .dataframe tbody tr th {\n",
       "        vertical-align: top;\n",
       "    }\n",
       "\n",
       "    .dataframe thead th {\n",
       "        text-align: right;\n",
       "    }\n",
       "</style>\n",
       "<table border=\"1\" class=\"dataframe\">\n",
       "  <thead>\n",
       "    <tr style=\"text-align: right;\">\n",
       "      <th></th>\n",
       "      <th>file_name</th>\n",
       "      <th>where</th>\n",
       "    </tr>\n",
       "  </thead>\n",
       "  <tbody>\n",
       "    <tr>\n",
       "      <th>0</th>\n",
       "      <td>search for the data in another file and put it...</td>\n",
       "      <td>all for work</td>\n",
       "    </tr>\n",
       "    <tr>\n",
       "      <th>1</th>\n",
       "      <td>test.py</td>\n",
       "      <td>all for work</td>\n",
       "    </tr>\n",
       "    <tr>\n",
       "      <th>2</th>\n",
       "      <td>studentgrades.csv</td>\n",
       "      <td>all for work</td>\n",
       "    </tr>\n",
       "    <tr>\n",
       "      <th>3</th>\n",
       "      <td>concatinating databases _ diff sizes.ipynb</td>\n",
       "      <td>all for work</td>\n",
       "    </tr>\n",
       "    <tr>\n",
       "      <th>4</th>\n",
       "      <td>to compare files !!!!.xlsx</td>\n",
       "      <td>all for work</td>\n",
       "    </tr>\n",
       "    <tr>\n",
       "      <th>5</th>\n",
       "      <td>all eqs.xlsx</td>\n",
       "      <td>all for work</td>\n",
       "    </tr>\n",
       "    <tr>\n",
       "      <th>6</th>\n",
       "      <td>concatinating databases _ one sheet..ipynb</td>\n",
       "      <td>all for work</td>\n",
       "    </tr>\n",
       "    <tr>\n",
       "      <th>7</th>\n",
       "      <td>to compare files in different folders !!!!!.ipynb</td>\n",
       "      <td>all for work</td>\n",
       "    </tr>\n",
       "    <tr>\n",
       "      <th>8</th>\n",
       "      <td>concatinating databases git.ipynb</td>\n",
       "      <td>all for work</td>\n",
       "    </tr>\n",
       "    <tr>\n",
       "      <th>9</th>\n",
       "      <td>concatinating databases.ipynb</td>\n",
       "      <td>all for work</td>\n",
       "    </tr>\n",
       "    <tr>\n",
       "      <th>10</th>\n",
       "      <td>to compare files_diff sizes!!!!.xlsx</td>\n",
       "      <td>all for work</td>\n",
       "    </tr>\n",
       "    <tr>\n",
       "      <th>11</th>\n",
       "      <td>to compare files_one sheet!!!!.xlsx</td>\n",
       "      <td>all for work</td>\n",
       "    </tr>\n",
       "    <tr>\n",
       "      <th>12</th>\n",
       "      <td>concatinating databases New.ipynb</td>\n",
       "      <td>all for work</td>\n",
       "    </tr>\n",
       "  </tbody>\n",
       "</table>\n",
       "</div>"
      ]
     },
     "execution_count": 116,
     "metadata": {},
     "output_type": "execute_result"
    }
   ],
   "source": [
    "df_result1 = pd.DataFrame({ 'file_name' : list(set(df1['file']) - set(df2['file'])), 'where' : os.path.basename(directory1)})\n",
    "df_result1"
   ]
  },
  {
   "cell_type": "code",
   "execution_count": 117,
   "metadata": {},
   "outputs": [
    {
     "data": {
      "text/html": [
       "<div>\n",
       "<style scoped>\n",
       "    .dataframe tbody tr th:only-of-type {\n",
       "        vertical-align: middle;\n",
       "    }\n",
       "\n",
       "    .dataframe tbody tr th {\n",
       "        vertical-align: top;\n",
       "    }\n",
       "\n",
       "    .dataframe thead th {\n",
       "        text-align: right;\n",
       "    }\n",
       "</style>\n",
       "<table border=\"1\" class=\"dataframe\">\n",
       "  <thead>\n",
       "    <tr style=\"text-align: right;\">\n",
       "      <th></th>\n",
       "      <th>file_name</th>\n",
       "      <th>where</th>\n",
       "    </tr>\n",
       "  </thead>\n",
       "  <tbody>\n",
       "    <tr>\n",
       "      <th>0</th>\n",
       "      <td>README.md</td>\n",
       "      <td>pandas-practice-master</td>\n",
       "    </tr>\n",
       "    <tr>\n",
       "      <th>1</th>\n",
       "      <td>instrument list git1.ipynb</td>\n",
       "      <td>pandas-practice-master</td>\n",
       "    </tr>\n",
       "    <tr>\n",
       "      <th>2</th>\n",
       "      <td>search for files names that contain a certain ...</td>\n",
       "      <td>pandas-practice-master</td>\n",
       "    </tr>\n",
       "    <tr>\n",
       "      <th>3</th>\n",
       "      <td>decorates + functions + dataframe (test).ipynb</td>\n",
       "      <td>pandas-practice-master</td>\n",
       "    </tr>\n",
       "    <tr>\n",
       "      <th>4</th>\n",
       "      <td>wallpaper rolls_calculation.py</td>\n",
       "      <td>pandas-practice-master</td>\n",
       "    </tr>\n",
       "    <tr>\n",
       "      <th>5</th>\n",
       "      <td>find all duplicate rows in a pandas dataframe....</td>\n",
       "      <td>pandas-practice-master</td>\n",
       "    </tr>\n",
       "    <tr>\n",
       "      <th>6</th>\n",
       "      <td>Classes + Pandas.ipynb</td>\n",
       "      <td>pandas-practice-master</td>\n",
       "    </tr>\n",
       "    <tr>\n",
       "      <th>7</th>\n",
       "      <td>search for the data in another file and put it...</td>\n",
       "      <td>pandas-practice-master</td>\n",
       "    </tr>\n",
       "    <tr>\n",
       "      <th>8</th>\n",
       "      <td>put data into df from another one TEST.ipynb</td>\n",
       "      <td>pandas-practice-master</td>\n",
       "    </tr>\n",
       "    <tr>\n",
       "      <th>9</th>\n",
       "      <td>searching for the data in another file.ipynb</td>\n",
       "      <td>pandas-practice-master</td>\n",
       "    </tr>\n",
       "    <tr>\n",
       "      <th>10</th>\n",
       "      <td>игра с начальником на отпуск.py</td>\n",
       "      <td>pandas-practice-master</td>\n",
       "    </tr>\n",
       "  </tbody>\n",
       "</table>\n",
       "</div>"
      ],
      "text/plain": [
       "<div>\n",
       "<style scoped>\n",
       "    .dataframe tbody tr th:only-of-type {\n",
       "        vertical-align: middle;\n",
       "    }\n",
       "\n",
       "    .dataframe tbody tr th {\n",
       "        vertical-align: top;\n",
       "    }\n",
       "\n",
       "    .dataframe thead th {\n",
       "        text-align: right;\n",
       "    }\n",
       "</style>\n",
       "<table border=\"1\" class=\"dataframe\">\n",
       "  <thead>\n",
       "    <tr style=\"text-align: right;\">\n",
       "      <th></th>\n",
       "      <th>file_name</th>\n",
       "      <th>where</th>\n",
       "    </tr>\n",
       "  </thead>\n",
       "  <tbody>\n",
       "    <tr>\n",
       "      <th>0</th>\n",
       "      <td>README.md</td>\n",
       "      <td>pandas-practice-master</td>\n",
       "    </tr>\n",
       "    <tr>\n",
       "      <th>1</th>\n",
       "      <td>instrument list git1.ipynb</td>\n",
       "      <td>pandas-practice-master</td>\n",
       "    </tr>\n",
       "    <tr>\n",
       "      <th>2</th>\n",
       "      <td>search for files names that contain a certain ...</td>\n",
       "      <td>pandas-practice-master</td>\n",
       "    </tr>\n",
       "    <tr>\n",
       "      <th>3</th>\n",
       "      <td>decorates + functions + dataframe (test).ipynb</td>\n",
       "      <td>pandas-practice-master</td>\n",
       "    </tr>\n",
       "    <tr>\n",
       "      <th>4</th>\n",
       "      <td>wallpaper rolls_calculation.py</td>\n",
       "      <td>pandas-practice-master</td>\n",
       "    </tr>\n",
       "    <tr>\n",
       "      <th>5</th>\n",
       "      <td>find all duplicate rows in a pandas dataframe....</td>\n",
       "      <td>pandas-practice-master</td>\n",
       "    </tr>\n",
       "    <tr>\n",
       "      <th>6</th>\n",
       "      <td>Classes + Pandas.ipynb</td>\n",
       "      <td>pandas-practice-master</td>\n",
       "    </tr>\n",
       "    <tr>\n",
       "      <th>7</th>\n",
       "      <td>search for the data in another file and put it...</td>\n",
       "      <td>pandas-practice-master</td>\n",
       "    </tr>\n",
       "    <tr>\n",
       "      <th>8</th>\n",
       "      <td>put data into df from another one TEST.ipynb</td>\n",
       "      <td>pandas-practice-master</td>\n",
       "    </tr>\n",
       "    <tr>\n",
       "      <th>9</th>\n",
       "      <td>searching for the data in another file.ipynb</td>\n",
       "      <td>pandas-practice-master</td>\n",
       "    </tr>\n",
       "    <tr>\n",
       "      <th>10</th>\n",
       "      <td>игра с начальником на отпуск.py</td>\n",
       "      <td>pandas-practice-master</td>\n",
       "    </tr>\n",
       "  </tbody>\n",
       "</table>\n",
       "</div>"
      ]
     },
     "execution_count": 117,
     "metadata": {},
     "output_type": "execute_result"
    }
   ],
   "source": [
    "df_result2 = pd.DataFrame({ 'file_name' : list(set(df2['file']) - set(df1['file'])), 'where' : os.path.basename(directory2)})\n",
    "df_result2"
   ]
  },
  {
   "cell_type": "code",
   "execution_count": 118,
   "metadata": {},
   "outputs": [
    {
     "data": {
      "text/html": [
       "<div>\n",
       "<style scoped>\n",
       "    .dataframe tbody tr th:only-of-type {\n",
       "        vertical-align: middle;\n",
       "    }\n",
       "\n",
       "    .dataframe tbody tr th {\n",
       "        vertical-align: top;\n",
       "    }\n",
       "\n",
       "    .dataframe thead th {\n",
       "        text-align: right;\n",
       "    }\n",
       "</style>\n",
       "<table border=\"1\" class=\"dataframe\">\n",
       "  <thead>\n",
       "    <tr style=\"text-align: right;\">\n",
       "      <th></th>\n",
       "      <th>file_name</th>\n",
       "      <th>where</th>\n",
       "    </tr>\n",
       "  </thead>\n",
       "  <tbody>\n",
       "    <tr>\n",
       "      <th>0</th>\n",
       "      <td>search for the data in another file and put it...</td>\n",
       "      <td>all for work</td>\n",
       "    </tr>\n",
       "    <tr>\n",
       "      <th>1</th>\n",
       "      <td>test.py</td>\n",
       "      <td>all for work</td>\n",
       "    </tr>\n",
       "    <tr>\n",
       "      <th>2</th>\n",
       "      <td>studentgrades.csv</td>\n",
       "      <td>all for work</td>\n",
       "    </tr>\n",
       "    <tr>\n",
       "      <th>3</th>\n",
       "      <td>concatinating databases _ diff sizes.ipynb</td>\n",
       "      <td>all for work</td>\n",
       "    </tr>\n",
       "    <tr>\n",
       "      <th>4</th>\n",
       "      <td>to compare files !!!!.xlsx</td>\n",
       "      <td>all for work</td>\n",
       "    </tr>\n",
       "    <tr>\n",
       "      <th>5</th>\n",
       "      <td>all eqs.xlsx</td>\n",
       "      <td>all for work</td>\n",
       "    </tr>\n",
       "    <tr>\n",
       "      <th>6</th>\n",
       "      <td>concatinating databases _ one sheet..ipynb</td>\n",
       "      <td>all for work</td>\n",
       "    </tr>\n",
       "    <tr>\n",
       "      <th>7</th>\n",
       "      <td>to compare files in different folders !!!!!.ipynb</td>\n",
       "      <td>all for work</td>\n",
       "    </tr>\n",
       "    <tr>\n",
       "      <th>8</th>\n",
       "      <td>concatinating databases git.ipynb</td>\n",
       "      <td>all for work</td>\n",
       "    </tr>\n",
       "    <tr>\n",
       "      <th>9</th>\n",
       "      <td>concatinating databases.ipynb</td>\n",
       "      <td>all for work</td>\n",
       "    </tr>\n",
       "    <tr>\n",
       "      <th>10</th>\n",
       "      <td>to compare files_diff sizes!!!!.xlsx</td>\n",
       "      <td>all for work</td>\n",
       "    </tr>\n",
       "    <tr>\n",
       "      <th>11</th>\n",
       "      <td>to compare files_one sheet!!!!.xlsx</td>\n",
       "      <td>all for work</td>\n",
       "    </tr>\n",
       "    <tr>\n",
       "      <th>12</th>\n",
       "      <td>concatinating databases New.ipynb</td>\n",
       "      <td>all for work</td>\n",
       "    </tr>\n",
       "    <tr>\n",
       "      <th>0</th>\n",
       "      <td>README.md</td>\n",
       "      <td>pandas-practice-master</td>\n",
       "    </tr>\n",
       "    <tr>\n",
       "      <th>1</th>\n",
       "      <td>instrument list git1.ipynb</td>\n",
       "      <td>pandas-practice-master</td>\n",
       "    </tr>\n",
       "    <tr>\n",
       "      <th>2</th>\n",
       "      <td>search for files names that contain a certain ...</td>\n",
       "      <td>pandas-practice-master</td>\n",
       "    </tr>\n",
       "    <tr>\n",
       "      <th>3</th>\n",
       "      <td>decorates + functions + dataframe (test).ipynb</td>\n",
       "      <td>pandas-practice-master</td>\n",
       "    </tr>\n",
       "    <tr>\n",
       "      <th>4</th>\n",
       "      <td>wallpaper rolls_calculation.py</td>\n",
       "      <td>pandas-practice-master</td>\n",
       "    </tr>\n",
       "    <tr>\n",
       "      <th>5</th>\n",
       "      <td>find all duplicate rows in a pandas dataframe....</td>\n",
       "      <td>pandas-practice-master</td>\n",
       "    </tr>\n",
       "    <tr>\n",
       "      <th>6</th>\n",
       "      <td>Classes + Pandas.ipynb</td>\n",
       "      <td>pandas-practice-master</td>\n",
       "    </tr>\n",
       "    <tr>\n",
       "      <th>7</th>\n",
       "      <td>search for the data in another file and put it...</td>\n",
       "      <td>pandas-practice-master</td>\n",
       "    </tr>\n",
       "    <tr>\n",
       "      <th>8</th>\n",
       "      <td>put data into df from another one TEST.ipynb</td>\n",
       "      <td>pandas-practice-master</td>\n",
       "    </tr>\n",
       "    <tr>\n",
       "      <th>9</th>\n",
       "      <td>searching for the data in another file.ipynb</td>\n",
       "      <td>pandas-practice-master</td>\n",
       "    </tr>\n",
       "    <tr>\n",
       "      <th>10</th>\n",
       "      <td>игра с начальником на отпуск.py</td>\n",
       "      <td>pandas-practice-master</td>\n",
       "    </tr>\n",
       "  </tbody>\n",
       "</table>\n",
       "</div>"
      ],
      "text/plain": [
       "<div>\n",
       "<style scoped>\n",
       "    .dataframe tbody tr th:only-of-type {\n",
       "        vertical-align: middle;\n",
       "    }\n",
       "\n",
       "    .dataframe tbody tr th {\n",
       "        vertical-align: top;\n",
       "    }\n",
       "\n",
       "    .dataframe thead th {\n",
       "        text-align: right;\n",
       "    }\n",
       "</style>\n",
       "<table border=\"1\" class=\"dataframe\">\n",
       "  <thead>\n",
       "    <tr style=\"text-align: right;\">\n",
       "      <th></th>\n",
       "      <th>file_name</th>\n",
       "      <th>where</th>\n",
       "    </tr>\n",
       "  </thead>\n",
       "  <tbody>\n",
       "    <tr>\n",
       "      <th>0</th>\n",
       "      <td>search for the data in another file and put it...</td>\n",
       "      <td>all for work</td>\n",
       "    </tr>\n",
       "    <tr>\n",
       "      <th>1</th>\n",
       "      <td>test.py</td>\n",
       "      <td>all for work</td>\n",
       "    </tr>\n",
       "    <tr>\n",
       "      <th>2</th>\n",
       "      <td>studentgrades.csv</td>\n",
       "      <td>all for work</td>\n",
       "    </tr>\n",
       "    <tr>\n",
       "      <th>3</th>\n",
       "      <td>concatinating databases _ diff sizes.ipynb</td>\n",
       "      <td>all for work</td>\n",
       "    </tr>\n",
       "    <tr>\n",
       "      <th>4</th>\n",
       "      <td>to compare files !!!!.xlsx</td>\n",
       "      <td>all for work</td>\n",
       "    </tr>\n",
       "    <tr>\n",
       "      <th>5</th>\n",
       "      <td>all eqs.xlsx</td>\n",
       "      <td>all for work</td>\n",
       "    </tr>\n",
       "    <tr>\n",
       "      <th>6</th>\n",
       "      <td>concatinating databases _ one sheet..ipynb</td>\n",
       "      <td>all for work</td>\n",
       "    </tr>\n",
       "    <tr>\n",
       "      <th>7</th>\n",
       "      <td>to compare files in different folders !!!!!.ipynb</td>\n",
       "      <td>all for work</td>\n",
       "    </tr>\n",
       "    <tr>\n",
       "      <th>8</th>\n",
       "      <td>concatinating databases git.ipynb</td>\n",
       "      <td>all for work</td>\n",
       "    </tr>\n",
       "    <tr>\n",
       "      <th>9</th>\n",
       "      <td>concatinating databases.ipynb</td>\n",
       "      <td>all for work</td>\n",
       "    </tr>\n",
       "    <tr>\n",
       "      <th>10</th>\n",
       "      <td>to compare files_diff sizes!!!!.xlsx</td>\n",
       "      <td>all for work</td>\n",
       "    </tr>\n",
       "    <tr>\n",
       "      <th>11</th>\n",
       "      <td>to compare files_one sheet!!!!.xlsx</td>\n",
       "      <td>all for work</td>\n",
       "    </tr>\n",
       "    <tr>\n",
       "      <th>12</th>\n",
       "      <td>concatinating databases New.ipynb</td>\n",
       "      <td>all for work</td>\n",
       "    </tr>\n",
       "    <tr>\n",
       "      <th>0</th>\n",
       "      <td>README.md</td>\n",
       "      <td>pandas-practice-master</td>\n",
       "    </tr>\n",
       "    <tr>\n",
       "      <th>1</th>\n",
       "      <td>instrument list git1.ipynb</td>\n",
       "      <td>pandas-practice-master</td>\n",
       "    </tr>\n",
       "    <tr>\n",
       "      <th>2</th>\n",
       "      <td>search for files names that contain a certain ...</td>\n",
       "      <td>pandas-practice-master</td>\n",
       "    </tr>\n",
       "    <tr>\n",
       "      <th>3</th>\n",
       "      <td>decorates + functions + dataframe (test).ipynb</td>\n",
       "      <td>pandas-practice-master</td>\n",
       "    </tr>\n",
       "    <tr>\n",
       "      <th>4</th>\n",
       "      <td>wallpaper rolls_calculation.py</td>\n",
       "      <td>pandas-practice-master</td>\n",
       "    </tr>\n",
       "    <tr>\n",
       "      <th>5</th>\n",
       "      <td>find all duplicate rows in a pandas dataframe....</td>\n",
       "      <td>pandas-practice-master</td>\n",
       "    </tr>\n",
       "    <tr>\n",
       "      <th>6</th>\n",
       "      <td>Classes + Pandas.ipynb</td>\n",
       "      <td>pandas-practice-master</td>\n",
       "    </tr>\n",
       "    <tr>\n",
       "      <th>7</th>\n",
       "      <td>search for the data in another file and put it...</td>\n",
       "      <td>pandas-practice-master</td>\n",
       "    </tr>\n",
       "    <tr>\n",
       "      <th>8</th>\n",
       "      <td>put data into df from another one TEST.ipynb</td>\n",
       "      <td>pandas-practice-master</td>\n",
       "    </tr>\n",
       "    <tr>\n",
       "      <th>9</th>\n",
       "      <td>searching for the data in another file.ipynb</td>\n",
       "      <td>pandas-practice-master</td>\n",
       "    </tr>\n",
       "    <tr>\n",
       "      <th>10</th>\n",
       "      <td>игра с начальником на отпуск.py</td>\n",
       "      <td>pandas-practice-master</td>\n",
       "    </tr>\n",
       "  </tbody>\n",
       "</table>\n",
       "</div>"
      ]
     },
     "execution_count": 118,
     "metadata": {},
     "output_type": "execute_result"
    }
   ],
   "source": [
    "df_result = pd.concat([df_result1, df_result2])\n",
    "df_result\n",
    "#len(df_result)"
   ]
  },
  {
   "cell_type": "code",
   "execution_count": 119,
   "metadata": {},
   "outputs": [
    {
     "data": {
      "text/plain": [
       "24"
      ]
     },
     "execution_count": 119,
     "metadata": {},
     "output_type": "execute_result"
    }
   ],
   "source": [
    "# # The same result gotten by another way\n",
    "df = pd.concat([df1['file'], df2['file']]).drop_duplicates(keep=False)\n",
    "len(df)"
   ]
  },
  {
   "cell_type": "code",
   "execution_count": 120,
   "metadata": {},
   "outputs": [],
   "source": [
    "df_result.to_excel('C:\\\\Users\\Documents\\dwg\\\\to compare files !!!!.xlsx')\n",
    "# операция создаст сама xlsx файл, отдельно создавать его не нужно"
   ]
  },
  {
   "cell_type": "code",
   "execution_count": 121,
   "metadata": {},
   "outputs": [
    {
     "name": "stdout",
     "output_type": "stream",
     "text": [
      "all for work\n"
     ]
    }
   ],
   "source": [
    "print(os.path.basename(directory1))"
   ]
  },
  {
   "cell_type": "code",
   "execution_count": 122,
   "metadata": {},
   "outputs": [
    {
     "name": "stdout",
     "output_type": "stream",
     "text": [
      "all\n"
     ]
    }
   ],
   "source": [
    "print(os.path.basename(directory1)[:3])"
   ]
  },
  {
   "cell_type": "heading",
   "metadata": {},
   "level": 1,
   "source": [
    "Вместо os.path.basename(path) - начало"
   ]
  },
  {
   "cell_type": "code",
   "execution_count": 123,
   "metadata": {},
   "outputs": [
    {
     "name": "stdout",
     "output_type": "stream",
     "text": [
      "('C:\\\\Users\\\\E277460\\\\PycharmProjects', 'all for work')\n"
     ]
    }
   ],
   "source": [
    "print(os.path.split('C:\\\\Users\\PycharmProjects\\\\all for work'))"
   ]
  },
  {
   "cell_type": "code",
   "execution_count": 124,
   "metadata": {},
   "outputs": [
    {
     "name": "stdout",
     "output_type": "stream",
     "text": [
      "('C:\\\\Users\\\\E277460', 'PycharmProjects')\n"
     ]
    }
   ],
   "source": [
    "print(os.path.split(os.path.split('C:\\\\Users\\PycharmProjects\\\\all for work')[0]))\n",
    "# выделяем первый"
   ]
  },
  {
   "cell_type": "code",
   "execution_count": 125,
   "metadata": {
    "collapsed": true
   },
   "outputs": [
    {
     "name": "stdout",
     "output_type": "stream",
     "text": [
      "PycharmProjects\n"
     ]
    }
   ],
   "source": [
    "\n",
    "print(os.path.split(os.path.split('C:\\\\Users\\PycharmProjects\\\\all for work')[0])[1])\n"
   ]
  },
  {
   "cell_type": "code",
   "execution_count": 126,
   "metadata": {},
   "outputs": [
    {
     "name": "stdout",
     "output_type": "stream",
     "text": [
      "all for work\n"
     ]
    }
   ],
   "source": [
    "print(os.path.split(os.path.split('C:\\\\Users\\PycharmProjects\\\\all for work\\\\')[0])[1])"
   ]
  },
  {
   "cell_type": "heading",
   "metadata": {},
   "level": 1,
   "source": [
    "Вместо os.path.basename(path) - конец"
   ]
  },
  {
   "cell_type": "code",
   "execution_count": 17,
   "metadata": {},
   "outputs": [
    {
     "data": {
      "text/plain": [
       "\"df_outer = pd.merge(df1, df2, on = 'file', how='outer')\\ndf_outer  \""
      ]
     },
     "execution_count": 17,
     "metadata": {},
     "output_type": "execute_result"
    }
   ],
   "source": [
    "'''df_outer = pd.merge(df1, df2, on = 'file', how='outer')\n",
    "df_outer  '''"
   ]
  },
  {
   "cell_type": "code",
   "execution_count": 28,
   "metadata": {},
   "outputs": [
    {
     "data": {
      "text/plain": [
       "\"df_inner = pd.merge(df1, df2, on = 'file', how='inner')\\ndf_inner  \""
      ]
     },
     "execution_count": 28,
     "metadata": {},
     "output_type": "execute_result"
    }
   ],
   "source": [
    "'''df_inner = pd.merge(df1, df2, on = 'file', how='inner')\n",
    "df_inner  '''"
   ]
  },
  {
   "cell_type": "code",
   "execution_count": 27,
   "metadata": {},
   "outputs": [],
   "source": [
    ""
   ]
  },
  {
   "cell_type": "code",
   "execution_count": null,
   "metadata": {},
   "outputs": [],
   "source": []
  }
 ],
 "metadata": {
  "kernelspec": {
   "display_name": "Python 2",
   "language": "python",
   "name": "python2"
  },
  "language_info": {
   "codemirror_mode": {
    "name": "ipython",
    "version": 2
   },
   "file_extension": ".py",
   "mimetype": "text/x-python",
   "name": "python",
   "nbconvert_exporter": "python",
   "pygments_lexer": "ipython2",
   "version": "2.7.6"
  }
 },
 "nbformat": 4,
 "nbformat_minor": 0
}
