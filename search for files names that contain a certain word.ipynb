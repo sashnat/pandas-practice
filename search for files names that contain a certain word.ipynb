{
 "cells": [
  {
   "cell_type": "heading",
   "metadata": {},
   "level": 1,
   "source": [
    "Search for files' names that contain a certain word"
   ]
  },
  {
   "cell_type": "code",
   "execution_count": 1,
   "metadata": {},
   "outputs": [],
   "source": [
    "import os"
   ]
  },
  {
   "cell_type": "code",
   "execution_count": 2,
   "metadata": {
    "collapsed": false
   },
   "outputs": [],
   "source": [
    "def out(x, y):\n",
    "    l = []\n",
    "    for d, dir, files in os.walk(x):\n",
    "        for file in files:\n",
    "            if y in file.replace('_', \" \").lower():\n",
    "                l.append(file)\n",
    "                #print (os.path.abspath(os.path.join(d, file)))\n",
    "                print (os.path.join(d, file))\n",
    "    print (l)\n",
    "    return          "
   ]
  },
  {
   "cell_type": "code",
   "execution_count": 3,
   "metadata": {},
   "outputs": [
    {
     "name": "stdout",
     "output_type": "stream",
     "text": [
      "C:\\Users\\E277460\\Documents\\Interview.xlsx\n"
     ]
    },
    {
     "name": "stdout",
     "output_type": "stream",
     "text": [
      "C:\\Users\\E277460\\Documents\\text\\france\\New Folder\\Interview Confirmation Sheet.doc\n['Interview.xlsx', 'Interview Confirmation Sheet.doc']\n"
     ]
    }
   ],
   "source": [
    "m, n = 'C:\\\\Users\\E277460\\\\Documents', \"interview\"\n",
    "out (m, n)\n"
   ]
  }
 ],
 "metadata": {
  "kernelspec": {
   "display_name": "Python 3",
   "language": "python",
   "name": "python3"
  },
  "language_info": {
   "codemirror_mode": {
    "name": "ipython",
    "version": 3
   },
   "file_extension": ".py",
   "mimetype": "text/x-python",
   "name": "python",
   "nbconvert_exporter": "python",
   "pygments_lexer": "ipython3",
   "version": "3.6.0"
  }
 },
 "nbformat": 4,
 "nbformat_minor": 1
}
