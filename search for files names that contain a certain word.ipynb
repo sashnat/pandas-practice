{
 "cells": [
  {
   "cell_type": "markdown",
   "metadata": {},
   "source": [
    "Search for files' names that contain a certain word"
   ]
  },
  {
   "cell_type": "code",
   "execution_count": 1,
   "metadata": {},
   "outputs": [],
   "source": [
    "import os"
   ]
  },
  {
   "cell_type": "code",
   "execution_count": 2,
   "metadata": {
    "collapsed": false
   },
   "outputs": [
    {
     "data": {
      "text/plain": [
       "'\\n    l = []\\n    for d, dir, files in os.walk(x):\\n        for file in files:\\n            if y in file.lower():\\n                l.append(file)\\n                #print (os.path.abspath(os.path.join(d, file)))\\n                print (os.path.join(d, file))\\n'"
      ]
     },
     "execution_count": 2,
     "metadata": {},
     "output_type": "execute_result"
    }
   ],
   "source": [
    "def out(x, y):\n",
    "    l = [file for d, dir, files in os.walk(x) for file in files if y in file.lower()]\n",
    "    print ('\\n'.join(l))\n",
    "    print (l)\n",
    "    return\n",
    "'''\n",
    "    l = []\n",
    "    for d, dir, files in os.walk(x):\n",
    "        for file in files:\n",
    "            if y in file.lower():\n",
    "                l.append(file)\n",
    "                #print (os.path.abspath(os.path.join(d, file)))\n",
    "                print (os.path.join(d, file))\n",
    "'''"
   ]
  },
  {
   "cell_type": "code",
   "execution_count": 3,
   "metadata": {},
   "outputs": [
    {
     "name": "stdout",
     "output_type": "stream",
     "text": [
      "Martin Carol. Perfect Phrases for Perfect Interview.pdf\nInterview Confirmation Sheet.doc\n['Martin Carol. Perfect Phrases for Perfect Interview.pdf', 'Interview Confirmation Sheet.doc']\n"
     ]
    }
   ],
   "source": [
    "m, n = 'Z:\\\\',\"interview\"\n",
    "out (m, n)\n"
   ]
  }
 ],
 "metadata": {
  "kernelspec": {
   "display_name": "Python 3",
   "language": "python",
   "name": "python3"
  },
  "language_info": {
   "codemirror_mode": {
    "name": "ipython",
    "version": 3
   },
   "file_extension": ".py",
   "mimetype": "text/x-python",
   "name": "python",
   "nbconvert_exporter": "python",
   "pygments_lexer": "ipython3",
   "version": "3.6.0"
  }
 },
 "nbformat": 4,
 "nbformat_minor": 1
}
