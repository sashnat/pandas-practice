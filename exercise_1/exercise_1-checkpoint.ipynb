{
 "cells": [
  {
   "cell_type": "markdown",
   "metadata": {},
   "source": [
    "<a href=\"https://github.com/conordewey3/HitchhikersGuideMachineLearning/blob/master/Hitchhiker's%20Guide%20to%20Machine%20Learning%20Algorithms%20in%20Python.ipynb\"> ссылка </a> \n"
   ]
  },
  {
   "cell_type": "code",
   "execution_count": null,
   "metadata": {},
   "outputs": [],
   "source": [
    "# some manipulations made with the data as a dictionary "
   ]
  },
  {
   "cell_type": "raw",
   "metadata": {},
   "source": [
    "# made some manipulations with the data as a dictionary "
   ]
  },
  {
   "cell_type": "code",
   "execution_count": 242,
   "metadata": {},
   "outputs": [],
   "source": [
    "import pandas as pd\n",
    "import matplotlib.pyplot as plt\n",
    "import numpy as np\n",
    "import seaborn as sns\n",
    "%matplotlib inline"
   ]
  },
  {
   "cell_type": "code",
   "execution_count": 243,
   "metadata": {},
   "outputs": [],
   "source": [
    "\n",
    "import warnings\n",
    "warnings.filterwarnings(\"ignore\")"
   ]
  },
  {
   "cell_type": "code",
   "execution_count": 244,
   "metadata": {},
   "outputs": [
    {
     "data": {
      "text/html": [
       "<div>\n",
       "<style scoped>\n",
       "    .dataframe tbody tr th:only-of-type {\n",
       "        vertical-align: middle;\n",
       "    }\n",
       "\n",
       "    .dataframe tbody tr th {\n",
       "        vertical-align: top;\n",
       "    }\n",
       "\n",
       "    .dataframe thead th {\n",
       "        text-align: right;\n",
       "    }\n",
       "</style>\n",
       "<table border=\"1\" class=\"dataframe\">\n",
       "  <thead>\n",
       "    <tr style=\"text-align: right;\">\n",
       "      <th></th>\n",
       "      <th>X</th>\n",
       "      <th>Y</th>\n",
       "      <th>z</th>\n",
       "    </tr>\n",
       "  </thead>\n",
       "  <tbody>\n",
       "    <tr>\n",
       "      <th>0</th>\n",
       "      <td>108</td>\n",
       "      <td>392.5</td>\n",
       "      <td>1</td>\n",
       "    </tr>\n",
       "    <tr>\n",
       "      <th>1</th>\n",
       "      <td>19</td>\n",
       "      <td>46.2</td>\n",
       "      <td>2</td>\n",
       "    </tr>\n",
       "    <tr>\n",
       "      <th>2</th>\n",
       "      <td>13</td>\n",
       "      <td>200.0</td>\n",
       "      <td>3</td>\n",
       "    </tr>\n",
       "    <tr>\n",
       "      <th>3</th>\n",
       "      <td>124</td>\n",
       "      <td>422.2</td>\n",
       "      <td>4</td>\n",
       "    </tr>\n",
       "    <tr>\n",
       "      <th>4</th>\n",
       "      <td>40</td>\n",
       "      <td>119.4</td>\n",
       "      <td>5</td>\n",
       "    </tr>\n",
       "    <tr>\n",
       "      <th>5</th>\n",
       "      <td>55</td>\n",
       "      <td>88.0</td>\n",
       "      <td>6</td>\n",
       "    </tr>\n",
       "    <tr>\n",
       "      <th>6</th>\n",
       "      <td>70</td>\n",
       "      <td>300.0</td>\n",
       "      <td>7</td>\n",
       "    </tr>\n",
       "    <tr>\n",
       "      <th>7</th>\n",
       "      <td>100</td>\n",
       "      <td>400.0</td>\n",
       "      <td>8</td>\n",
       "    </tr>\n",
       "  </tbody>\n",
       "</table>\n",
       "</div>"
      ],
      "text/plain": [
       "     X      Y  z\n",
       "0  108  392.5  1\n",
       "1   19   46.2  2\n",
       "2   13  200.0  3\n",
       "3  124  422.2  4\n",
       "4   40  119.4  5\n",
       "5   55   88.0  6\n",
       "6   70  300.0  7\n",
       "7  100  400.0  8"
      ]
     },
     "execution_count": 244,
     "metadata": {},
     "output_type": "execute_result"
    }
   ],
   "source": [
    "\n",
    "from sklearn import linear_model\n",
    "df = pd.read_excel('Z:\\\\Python\\pandas\\exercise_1\\linear_regression_df.xlsx')\n",
    "df.columns = ['X', 'Y', 'z']\n",
    "df.head(10)"
   ]
  },
  {
   "cell_type": "code",
   "execution_count": 245,
   "metadata": {},
   "outputs": [
    {
     "data": {
      "text/plain": [
       "Text(0.5,10.256,'Explanatory')"
      ]
     },
     "execution_count": 245,
     "metadata": {},
     "output_type": "execute_result"
    },
    {
     "data": {
      "image/png": "[encoded data removed]",
      "text/plain": [
       "<matplotlib.figure.Figure at 0x1830e532b0>"
      ]
     },
     "metadata": {},
     "output_type": "display_data"
    }
   ],
   "source": [
    "sns.set_context(\"notebook\", font_scale=1.1)\n",
    "sns.set_style(\"ticks\")\n",
    "\n",
    "sns.lmplot('X','Y', data=df)\n",
    "plt.ylabel('Response')\n",
    "plt.xlabel('Explanatory')"
   ]
  },
  {
   "cell_type": "code",
   "execution_count": 246,
   "metadata": {},
   "outputs": [
    {
     "name": "stdout",
     "output_type": "stream",
     "text": [
      "0    108\n",
      "1     19\n",
      "2     13\n",
      "3    124\n",
      "4     40\n",
      "5     55\n",
      "6     70\n",
      "7    100\n",
      "Name: X, dtype: int64\n",
      "     A      B  C    D\n",
      "0  1.0  402.5  1  108\n",
      "1  1.0   56.2  2   19\n",
      "2  1.0  210.0  3   13\n",
      "3  1.0  432.2  4  124\n",
      "4  1.0  129.4  5   40\n",
      "5  1.0   98.0  6   55\n",
      "6  1.0  310.0  7   70\n",
      "7  1.0  410.0  8  100\n"
     ]
    }
   ],
   "source": [
    "print(df['X'])\n",
    "df1 = pd.DataFrame({ 'A' : 1.,\n",
    "                     'B' : (df['Y']) + 10,\n",
    "                     'C' : df['z'], \n",
    "                     'D' : df['X'] })\n",
    "print (df1)"
   ]
  },
  {
   "cell_type": "code",
   "execution_count": 247,
   "metadata": {},
   "outputs": [
    {
     "name": "stdout",
     "output_type": "stream",
     "text": [
      "0    108\n",
      "1     19\n",
      "2     13\n",
      "3    124\n",
      "4     40\n",
      "5     55\n",
      "6     70\n",
      "7    100\n",
      "Name: X, dtype: int64\n",
      "     A      B  C       D\n",
      "0  1.0  402.5  1  108_01\n",
      "1  1.0   56.2  2   19_01\n",
      "2  1.0  210.0  3   13_01\n",
      "3  1.0  432.2  4  124_01\n",
      "4  1.0  129.4  5   40_01\n",
      "5  1.0   98.0  6   55_01\n",
      "6  1.0  310.0  7   70_01\n",
      "7  1.0  410.0  8  100_01\n"
     ]
    }
   ],
   "source": [
    "print(df['X'])\n",
    "\n",
    "'''\n",
    "l =[]\n",
    "print(d)\n",
    "for i in df['X']:\n",
    "    i = str(i) + \"_01\"\n",
    "    l.append(i)'''\n",
    "df['X'] = [str(i) + \"_01\" for i in df['X']]\n",
    "\n",
    "df3 = pd.DataFrame({ 'A' : 1.,\n",
    "                     'B' : df['Y'] + 10,\n",
    "                     'C' : df['z'],\n",
    "                     'D' : df['X'] })\n",
    "print (df3)"
   ]
  },
  {
   "cell_type": "code",
   "execution_count": null,
   "metadata": {},
   "outputs": [],
   "source": []
  },
  {
   "cell_type": "code",
   "execution_count": null,
   "metadata": {},
   "outputs": [],
   "source": []
  }
 ],
 "metadata": {
  "kernelspec": {
   "display_name": "Python 3",
   "language": "python",
   "name": "python3"
  },
  "language_info": {
   "codemirror_mode": {
    "name": "ipython",
    "version": 3
   },
   "file_extension": ".py",
   "mimetype": "text/x-python",
   "name": "python",
   "nbconvert_exporter": "python",
   "pygments_lexer": "ipython3",
   "version": "3.6.3"
  }
 },
 "nbformat": 4,
 "nbformat_minor": 1
}
