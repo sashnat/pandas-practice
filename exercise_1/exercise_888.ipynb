{
 "cells": [
  {
   "cell_type": "markdown",
   "metadata": {},
   "source": [
    "<a href=\"https://github.com/sashnat/pandas-practice/blob/master/exercise_1/exercise_1.ipynb\"> ссылка </a> \n"
   ]
  },
  {
   "cell_type": "code",
   "execution_count": 1,
   "metadata": {},
   "outputs": [],
   "source": [
    "import pandas as pd\n",
    "import matplotlib.pyplot as plt\n",
    "import numpy as np\n",
    "import seaborn as sns\n",
    "%matplotlib inline"
   ]
  },
  {
   "cell_type": "code",
   "execution_count": 3,
   "metadata": {},
   "outputs": [],
   "source": [
    "from openpyxl import load_workbook"
   ]
  },
  {
   "cell_type": "code",
   "execution_count": 4,
   "metadata": {},
   "outputs": [
    {
     "data": {
      "text/html": [
       "<div>\n",
       "<table border=\"1\" class=\"dataframe\">\n",
       "  <thead>\n",
       "    <tr style=\"text-align: right;\">\n",
       "      <th></th>\n",
       "      <th>X</th>\n",
       "      <th>Y</th>\n",
       "      <th>z</th>\n",
       "    </tr>\n",
       "  </thead>\n",
       "  <tbody>\n",
       "    <tr>\n",
       "      <th>0</th>\n",
       "      <td>108</td>\n",
       "      <td>392.5</td>\n",
       "      <td>1</td>\n",
       "    </tr>\n",
       "    <tr>\n",
       "      <th>1</th>\n",
       "      <td>19</td>\n",
       "      <td>46.2</td>\n",
       "      <td>2</td>\n",
       "    </tr>\n",
       "    <tr>\n",
       "      <th>2</th>\n",
       "      <td>13</td>\n",
       "      <td>200.0</td>\n",
       "      <td>3</td>\n",
       "    </tr>\n",
       "    <tr>\n",
       "      <th>3</th>\n",
       "      <td>124</td>\n",
       "      <td>422.2</td>\n",
       "      <td>4</td>\n",
       "    </tr>\n",
       "    <tr>\n",
       "      <th>4</th>\n",
       "      <td>40</td>\n",
       "      <td>119.4</td>\n",
       "      <td>5</td>\n",
       "    </tr>\n",
       "    <tr>\n",
       "      <th>5</th>\n",
       "      <td>55</td>\n",
       "      <td>88.0</td>\n",
       "      <td>6</td>\n",
       "    </tr>\n",
       "    <tr>\n",
       "      <th>6</th>\n",
       "      <td>70</td>\n",
       "      <td>300.0</td>\n",
       "      <td>7</td>\n",
       "    </tr>\n",
       "    <tr>\n",
       "      <th>7</th>\n",
       "      <td>100</td>\n",
       "      <td>400.0</td>\n",
       "      <td>8</td>\n",
       "    </tr>\n",
       "  </tbody>\n",
       "</table>\n",
       "</div>"
      ],
      "text/plain": [
       "<div>\n",
       "<table border=\"1\" class=\"dataframe\">\n",
       "  <thead>\n",
       "    <tr style=\"text-align: right;\">\n",
       "      <th></th>\n",
       "      <th>X</th>\n",
       "      <th>Y</th>\n",
       "      <th>z</th>\n",
       "    </tr>\n",
       "  </thead>\n",
       "  <tbody>\n",
       "    <tr>\n",
       "      <th>0</th>\n",
       "      <td>108</td>\n",
       "      <td>392.5</td>\n",
       "      <td>1</td>\n",
       "    </tr>\n",
       "    <tr>\n",
       "      <th>1</th>\n",
       "      <td>19</td>\n",
       "      <td>46.2</td>\n",
       "      <td>2</td>\n",
       "    </tr>\n",
       "    <tr>\n",
       "      <th>2</th>\n",
       "      <td>13</td>\n",
       "      <td>200.0</td>\n",
       "      <td>3</td>\n",
       "    </tr>\n",
       "    <tr>\n",
       "      <th>3</th>\n",
       "      <td>124</td>\n",
       "      <td>422.2</td>\n",
       "      <td>4</td>\n",
       "    </tr>\n",
       "    <tr>\n",
       "      <th>4</th>\n",
       "      <td>40</td>\n",
       "      <td>119.4</td>\n",
       "      <td>5</td>\n",
       "    </tr>\n",
       "    <tr>\n",
       "      <th>5</th>\n",
       "      <td>55</td>\n",
       "      <td>88.0</td>\n",
       "      <td>6</td>\n",
       "    </tr>\n",
       "    <tr>\n",
       "      <th>6</th>\n",
       "      <td>70</td>\n",
       "      <td>300.0</td>\n",
       "      <td>7</td>\n",
       "    </tr>\n",
       "    <tr>\n",
       "      <th>7</th>\n",
       "      <td>100</td>\n",
       "      <td>400.0</td>\n",
       "      <td>8</td>\n",
       "    </tr>\n",
       "  </tbody>\n",
       "</table>\n",
       "</div>"
      ]
     },
     "execution_count": 4,
     "metadata": {},
     "output_type": "execute_result"
    }
   ],
   "source": [
    "\n",
    "from sklearn import linear_model\n",
    "df = pd.read_excel('C:\\\\Users\\E277460\\PycharmProjects\\Jupyter\\exercise_1\\linear_regression_df.xlsx')\n",
    "df.columns = ['X', 'Y', 'z']\n",
    "df.head(10)"
   ]
  },
  {
   "cell_type": "code",
   "execution_count": 5,
   "metadata": {},
   "outputs": [
    {
     "data": {
      "text/plain": [
       "<matplotlib.text.Text at 0x22fce69eda0>"
      ]
     },
     "execution_count": 5,
     "metadata": {},
     "output_type": "execute_result"
    },
    {
     "data": {
      "image/png": "[encoded data removed]",
      "text/plain": [
       "<matplotlib.figure.Figure at 0x22fce652240>"
      ]
     },
     "metadata": {},
     "output_type": "display_data"
    }
   ],
   "source": [
    "sns.set_context(\"notebook\", font_scale=1.1)\n",
    "sns.set_style(\"ticks\")\n",
    "\n",
    "sns.lmplot('X','Y', data=df)\n",
    "plt.ylabel('Response')\n",
    "plt.xlabel('Explanatory')"
   ]
  },
  {
   "cell_type": "markdown",
   "metadata": {},
   "source": [
    "# some manipulations made with the data as a dictionary "
   ]
  },
  {
   "cell_type": "code",
   "execution_count": 7,
   "metadata": {},
   "outputs": [
    {
     "name": "stdout",
     "output_type": "stream",
     "text": [
      "0    108\n1     19\n2     13\n3    124\n4     40\n5     55\n6     70\n7    100\nName: X, dtype: int64\n     A      B  C    D\n0  1.0  402.5  1  108\n1  1.0   56.2  2   19\n2  1.0  210.0  3   13\n3  1.0  432.2  4  124\n4  1.0  129.4  5   40\n5  1.0   98.0  6   55\n6  1.0  310.0  7   70\n7  1.0  410.0  8  100\n"
     ]
    }
   ],
   "source": [
    "print(df['X'])\n",
    "df1 = pd.DataFrame({ 'A' : 1.,\n",
    "                     'B' : (df['Y']) + 10,\n",
    "                     'C' : df['z'], \n",
    "                     'D' : df['X'] })\n",
    "print (df1)"
   ]
  },
  {
   "cell_type": "code",
   "execution_count": 8,
   "metadata": {},
   "outputs": [
    {
     "name": "stdout",
     "output_type": "stream",
     "text": [
      "0    108\n1     19\n2     13\n3    124\n4     40\n5     55\n6     70\n7    100\nName: X, dtype: int64\n     A      B  C       D\n0  1.0  402.5  1  108_01\n1  1.0   56.2  2   19_01\n2  1.0  210.0  3   13_01\n3  1.0  432.2  4  124_01\n4  1.0  129.4  5   40_01\n5  1.0   98.0  6   55_01\n6  1.0  310.0  7   70_01\n7  1.0  410.0  8  100_01\n"
     ]
    }
   ],
   "source": [
    "print(df['X'])\n",
    "\n",
    "'''\n",
    "l =[]\n",
    "print(d)\n",
    "for i in df['X']:\n",
    "    i = str(i) + \"_01\"\n",
    "    l.append(i)'''\n",
    "df['X'] = [str(i) + \"_01\" for i in df['X']]\n",
    "\n",
    "df3 = pd.DataFrame({ 'A' : 1.,\n",
    "                     'B' : df['Y'] + 10,\n",
    "                     'C' : df['z'],\n",
    "                     'D' : df['X'] })\n",
    "print (df3)"
   ]
  },
  {
   "cell_type": "markdown",
   "metadata": {},
   "source": [
    "# file writing"
   ]
  },
  {
   "cell_type": "code",
   "execution_count": 9,
   "metadata": {},
   "outputs": [],
   "source": [
    "\n",
    "# Create a Pandas Excel writer using XlsxWriter as the engine.\n",
    "writer = pd.ExcelWriter('C:\\\\Users\\E277460\\PycharmProjects\\Jupyter\\linear_regression_df1.xlsx', engine='xlsxwriter')\n",
    "\n",
    "# Write each dataframe to a different worksheet.\n",
    "df3.to_excel(writer, sheet_name='Sheet2')\n",
    "\n",
    "\n",
    "# Close the Pandas Excel writer and output the Excel file.\n",
    "writer.save()\n"
   ]
  },
  {
   "cell_type": "markdown",
   "metadata": {},
   "source": [
    "# appending data into the existing sheet"
   ]
  },
  {
   "cell_type": "code",
   "execution_count": 10,
   "metadata": {},
   "outputs": [],
   "source": [
    "file2 = r'C:\\\\Users\\E277460\\PycharmProjects\\Jupyter\\exercise_1\\linear_regression_df2.xlsx'\n",
    "df5 = pd.DataFrame({ 'X' : 2.,\n",
    "                     'Y' : (df['Y']) + 1000 })\n",
    "df5.shape[0]   ## Gives no. of rows/records  or len(df) or len(df.index)\n",
    "df.shape[1]   ## Gives no. of columns\n",
    "curr_count = df5.shape[0]\n",
    "writer2 = pd.ExcelWriter(file2, engine='openpyxl')\n",
    "\n",
    "df3.to_excel(writer2, index=False)    \n",
    "\n",
    "df5.to_excel(writer2, startrow=curr_count + 1, index=False)\n",
    "\n",
    "writer2.save()"
   ]
  },
  {
   "cell_type": "markdown",
   "metadata": {},
   "source": [
    "# appending data into a new sheet of the existing file"
   ]
  },
  {
   "cell_type": "code",
   "execution_count": 11,
   "metadata": {},
   "outputs": [],
   "source": [
    "file = r'C:\\\\Users\\E277460\\PycharmProjects\\Jupyter\\exercise_1\\linear_regression_df2.xlsx'\n",
    "\n",
    "df4 = pd.DataFrame({'Data': [10, 20, 30, 20, 15, 30, 45]})\n",
    "book = load_workbook(file)\n",
    "writer = pd.ExcelWriter(file, engine='openpyxl')\n",
    "writer.book = book # < panda will just use the writer to write the data to a new book thus overwriting the existing book if you don't specify that the book already has data\n",
    "\n",
    "# how do I insert a column at a specific column index in pandas?\n",
    "idx = 0 # using (idx = 0) will insert at the beginning\n",
    "new_col = [7, 8, 9, 10, 11, 12 , 0]  # can be a list, a Series, an array or a scalar   \n",
    "df4.insert(loc=idx, column='A', value=new_col)\n",
    "#\n",
    "df4.to_excel(writer, sheet_name='New', index=None)\n",
    "writer.save()"
   ]
  },
  {
   "cell_type": "markdown",
   "metadata": {},
   "source": [
    "# Займет 4 колонку в новом листе с шапкой W (значением df['Y'] + 30) и с данными исходного файла\n",
    "# Но без новых (своих) индесов 0 1 2 3 4 5 6 7 , так как в df.to_excel(writer) ---> index=None"
   ]
  },
  {
   "cell_type": "code",
   "execution_count": 12,
   "metadata": {},
   "outputs": [],
   "source": [
    "file3 = r'C:\\\\Users\\E277460\\PycharmProjects\\Jupyter\\exercise_1\\linear_regression_df.xlsx'\n",
    "#df6 = pd.DataFrame({ 'W' : (df['Y']) + 30 })\n",
    "\n",
    "book = load_workbook(file3)\n",
    "writer = pd.ExcelWriter(file3, engine='openpyxl')\n",
    "writer.book = book # < panda will just use the writer to write the data to a new book thus overwriting the existing book if you don't specify that the book already has data\n",
    "\n",
    "idx = 3 # займет 4 колонку в новом листе с шапкой W и значением df['Y'] + 30 с данными исходного файла\n",
    "# Но без новых (своих) индесов 0 1 2 3 4 5 6 7 , так как в df.to_excel(writer) ---> index=None\n",
    "new_col = df['Y'] + 30\n",
    "df.insert(loc=idx, column='W', value=new_col)\n",
    "\n",
    "df.to_excel(writer, sheet_name='New', index=None)  # Но без новых индесов 0 1 2 3 4 5 6 7, в новом листе\n",
    "writer.save()"
   ]
  },
  {
   "cell_type": "markdown",
   "metadata": {},
   "source": [
    "# Займет 3 колонку (если не считать \"свои-новые\" индексы) в новом листе с шапкой W1 (со значениями df['Y'] + 30) и с колонкой W, с данными исходного файла\n",
    "# C новыми (своими) индесами 0 1 2 3 4 5 6 7 , так как в df.to_excel(writer) нет ---> index=None"
   ]
  },
  {
   "cell_type": "code",
   "execution_count": 13,
   "metadata": {},
   "outputs": [],
   "source": [
    "file4 = r'C:\\\\Users\\E277460\\PycharmProjects\\Jupyter\\exercise_1\\linear_regression_df.xlsx'\n",
    "#df6 = pd.DataFrame({ 'W' : (df['Y']) + 30 })\n",
    "\n",
    "book = load_workbook(file4)\n",
    "writer = pd.ExcelWriter(file4, engine='openpyxl')\n",
    "writer.book = book # < panda will just use the writer to write the data to a new book thus overwriting the existing book if you don't specify that the book already has data\n",
    "\n",
    "idx = 2 # займет 3 колонку (если не считать \"свои-новые\" индексы) в новом листе с шапкой W1 и значением df['Y'] + 30 с данными исходного файла\n",
    "# C новыми (своими) индесами 0 1 2 3 4 5 6 7 , так как в df.to_excel(writer) нет ---> index=None\n",
    "new_col1 = df['Y'] + 30\n",
    "df.insert(loc=idx, column='W1', value=new_col1)\n",
    "df.to_excel(writer)   # C новыми (со своими) индесами 0 1 2 3 4 5 6 7, в новом листе, и с колонкой W\n",
    "writer.save()"
   ]
  },
  {
   "cell_type": "code",
   "execution_count": 14,
   "metadata": {},
   "outputs": [
    {
     "data": {
      "text/html": [
       "<div>\n",
       "<table border=\"1\" class=\"dataframe\">\n",
       "  <thead>\n",
       "    <tr style=\"text-align: right;\">\n",
       "      <th></th>\n",
       "      <th>X</th>\n",
       "      <th>Y</th>\n",
       "      <th>W1</th>\n",
       "      <th>z</th>\n",
       "      <th>W</th>\n",
       "    </tr>\n",
       "  </thead>\n",
       "  <tbody>\n",
       "    <tr>\n",
       "      <th>0</th>\n",
       "      <td>108_01</td>\n",
       "      <td>392.5</td>\n",
       "      <td>422.5</td>\n",
       "      <td>1</td>\n",
       "      <td>422.5</td>\n",
       "    </tr>\n",
       "    <tr>\n",
       "      <th>1</th>\n",
       "      <td>19_01</td>\n",
       "      <td>46.2</td>\n",
       "      <td>76.2</td>\n",
       "      <td>2</td>\n",
       "      <td>76.2</td>\n",
       "    </tr>\n",
       "    <tr>\n",
       "      <th>2</th>\n",
       "      <td>13_01</td>\n",
       "      <td>200.0</td>\n",
       "      <td>230.0</td>\n",
       "      <td>3</td>\n",
       "      <td>230.0</td>\n",
       "    </tr>\n",
       "    <tr>\n",
       "      <th>3</th>\n",
       "      <td>124_01</td>\n",
       "      <td>422.2</td>\n",
       "      <td>452.2</td>\n",
       "      <td>4</td>\n",
       "      <td>452.2</td>\n",
       "    </tr>\n",
       "    <tr>\n",
       "      <th>4</th>\n",
       "      <td>40_01</td>\n",
       "      <td>119.4</td>\n",
       "      <td>149.4</td>\n",
       "      <td>5</td>\n",
       "      <td>149.4</td>\n",
       "    </tr>\n",
       "    <tr>\n",
       "      <th>5</th>\n",
       "      <td>55_01</td>\n",
       "      <td>88.0</td>\n",
       "      <td>118.0</td>\n",
       "      <td>6</td>\n",
       "      <td>118.0</td>\n",
       "    </tr>\n",
       "    <tr>\n",
       "      <th>6</th>\n",
       "      <td>70_01</td>\n",
       "      <td>300.0</td>\n",
       "      <td>330.0</td>\n",
       "      <td>7</td>\n",
       "      <td>330.0</td>\n",
       "    </tr>\n",
       "    <tr>\n",
       "      <th>7</th>\n",
       "      <td>100_01</td>\n",
       "      <td>400.0</td>\n",
       "      <td>430.0</td>\n",
       "      <td>8</td>\n",
       "      <td>430.0</td>\n",
       "    </tr>\n",
       "  </tbody>\n",
       "</table>\n",
       "</div>"
      ],
      "text/plain": [
       "<div>\n",
       "<table border=\"1\" class=\"dataframe\">\n",
       "  <thead>\n",
       "    <tr style=\"text-align: right;\">\n",
       "      <th></th>\n",
       "      <th>X</th>\n",
       "      <th>Y</th>\n",
       "      <th>W1</th>\n",
       "      <th>z</th>\n",
       "      <th>W</th>\n",
       "    </tr>\n",
       "  </thead>\n",
       "  <tbody>\n",
       "    <tr>\n",
       "      <th>0</th>\n",
       "      <td>108_01</td>\n",
       "      <td>392.5</td>\n",
       "      <td>422.5</td>\n",
       "      <td>1</td>\n",
       "      <td>422.5</td>\n",
       "    </tr>\n",
       "    <tr>\n",
       "      <th>1</th>\n",
       "      <td>19_01</td>\n",
       "      <td>46.2</td>\n",
       "      <td>76.2</td>\n",
       "      <td>2</td>\n",
       "      <td>76.2</td>\n",
       "    </tr>\n",
       "    <tr>\n",
       "      <th>2</th>\n",
       "      <td>13_01</td>\n",
       "      <td>200.0</td>\n",
       "      <td>230.0</td>\n",
       "      <td>3</td>\n",
       "      <td>230.0</td>\n",
       "    </tr>\n",
       "    <tr>\n",
       "      <th>3</th>\n",
       "      <td>124_01</td>\n",
       "      <td>422.2</td>\n",
       "      <td>452.2</td>\n",
       "      <td>4</td>\n",
       "      <td>452.2</td>\n",
       "    </tr>\n",
       "    <tr>\n",
       "      <th>4</th>\n",
       "      <td>40_01</td>\n",
       "      <td>119.4</td>\n",
       "      <td>149.4</td>\n",
       "      <td>5</td>\n",
       "      <td>149.4</td>\n",
       "    </tr>\n",
       "    <tr>\n",
       "      <th>5</th>\n",
       "      <td>55_01</td>\n",
       "      <td>88.0</td>\n",
       "      <td>118.0</td>\n",
       "      <td>6</td>\n",
       "      <td>118.0</td>\n",
       "    </tr>\n",
       "    <tr>\n",
       "      <th>6</th>\n",
       "      <td>70_01</td>\n",
       "      <td>300.0</td>\n",
       "      <td>330.0</td>\n",
       "      <td>7</td>\n",
       "      <td>330.0</td>\n",
       "    </tr>\n",
       "    <tr>\n",
       "      <th>7</th>\n",
       "      <td>100_01</td>\n",
       "      <td>400.0</td>\n",
       "      <td>430.0</td>\n",
       "      <td>8</td>\n",
       "      <td>430.0</td>\n",
       "    </tr>\n",
       "  </tbody>\n",
       "</table>\n",
       "</div>"
      ]
     },
     "execution_count": 14,
     "metadata": {},
     "output_type": "execute_result"
    }
   ],
   "source": [
    "df.head(10)"
   ]
  },
  {
   "cell_type": "code",
   "execution_count": null,
   "metadata": {},
   "outputs": [],
   "source": []
  }
 ],
 "metadata": {
  "kernelspec": {
   "display_name": "Python 3",
   "language": "python",
   "name": "python3"
  },
  "language_info": {
   "codemirror_mode": {
    "name": "ipython",
    "version": 3
   },
   "file_extension": ".py",
   "mimetype": "text/x-python",
   "name": "python",
   "nbconvert_exporter": "python",
   "pygments_lexer": "ipython3",
   "version": "3.6.0"
  }
 },
 "nbformat": 4,
 "nbformat_minor": 1
}
