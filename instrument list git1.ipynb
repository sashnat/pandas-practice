{
 "cells": [
  {
   "cell_type": "markdown",
   "metadata": {},
   "source": [
    "The task is to compare the existing 'files names' list file with new one"
   ]
  },
  {
   "cell_type": "code",
   "execution_count": 1,
   "metadata": {},
   "outputs": [],
   "source": [
    "import pandas as pd\n",
    "import matplotlib.pyplot as plt\n",
    "import numpy as np\n",
    "import seaborn as sns\n",
    "%matplotlib inline\n",
    "import os"
   ]
  },
  {
   "cell_type": "code",
   "execution_count": 2,
   "metadata": {},
   "outputs": [],
   "source": [
    "from openpyxl import load_workbook"
   ]
  },
  {
   "cell_type": "code",
   "execution_count": 3,
   "metadata": {},
   "outputs": [],
   "source": [
    "# received 'new file'\n",
    "way = r'C:\\\\Users\\Исходные данные\\Instr List 31.01.2017 my.xlsx'\n",
    "fields = ['N_PID']\n",
    "df = pd.read_excel(way, skipinitialspace = True, usecols = fields)\n",
    "# See the keys\n",
    "#print (df.keys())"
   ]
  },
  {
   "cell_type": "code",
   "execution_count": 4,
   "metadata": {},
   "outputs": [],
   "source": [
    "# See content in 'N_PID'\n",
    "#print(df.N_PID)"
   ]
  },
  {
   "cell_type": "code",
   "execution_count": 5,
   "metadata": {
    "collapsed": true
   },
   "outputs": [],
   "source": [
    "# new dataframe for 'new file'\n",
    "df['new'] = [str(i)+'-RU-R1.pdf' for i in df['N_PID']]\n",
    "df_new = pd.DataFrame({ 'file_name' : sorted(set(df['new'])) })"
   ]
  },
  {
   "cell_type": "code",
   "execution_count": 7,
   "metadata": {},
   "outputs": [],
   "source": [
    "# 'existing file'\n",
    "way_in = r'C:\\\\Users\\E277460\\Documents\\dwg\\\\Uzb _Акчалак\\work\\AkchalakDescrptionAnalysis R12 30_01_181.xlsx'\n",
    "df_in = pd.read_excel(way_in, sheetname = 'Rev1 Перечень файлов 05_12_17')\n",
    "#df_in['file_name'].head(100)\n",
    "#print(list(df_in['file_name']))\n",
    "#print(list(df_new['file_name']))"
   ]
  },
  {
   "cell_type": "code",
   "execution_count": 8,
   "metadata": {},
   "outputs": [
    {
     "data": {
      "text/html": [
       "<div>\n",
       "<table border=\"1\" class=\"dataframe\">\n",
       "  <thead>\n",
       "    <tr style=\"text-align: right;\">\n",
       "      <th></th>\n",
       "      <th>file_name</th>\n",
       "    </tr>\n",
       "  </thead>\n",
       "  <tbody>\n",
       "    <tr>\n",
       "      <th>0</th>\n",
       "      <td>UZLE-0006-GRP3-1003-000-OPN-SCM-100002-RU-R1.pdf</td>\n",
       "    </tr>\n",
       "    <tr>\n",
       "      <th>1</th>\n",
       "      <td>UZLE-0006-GRP3-1007-000-OPN-SCM-100013-RU-R1-1...</td>\n",
       "    </tr>\n",
       "  </tbody>\n",
       "</table>\n",
       "</div>"
      ],
      "text/plain": [
       "<div>\n",
       "<table border=\"1\" class=\"dataframe\">\n",
       "  <thead>\n",
       "    <tr style=\"text-align: right;\">\n",
       "      <th></th>\n",
       "      <th>file_name</th>\n",
       "    </tr>\n",
       "  </thead>\n",
       "  <tbody>\n",
       "    <tr>\n",
       "      <th>0</th>\n",
       "      <td>UZLE-0006-GRP3-1003-000-OPN-SCM-100002-RU-R1.pdf</td>\n",
       "    </tr>\n",
       "    <tr>\n",
       "      <th>1</th>\n",
       "      <td>UZLE-0006-GRP3-1007-000-OPN-SCM-100013-RU-R1-1...</td>\n",
       "    </tr>\n",
       "  </tbody>\n",
       "</table>\n",
       "</div>"
      ]
     },
     "execution_count": 8,
     "metadata": {},
     "output_type": "execute_result"
    }
   ],
   "source": [
    "df_result = pd.DataFrame({ 'file_name' : list(set(df_in['file_name']) - set(df_new['file_name'])) })\n",
    "df_result.head(100)\n"
   ]
  }
 ],
 "metadata": {
  "kernelspec": {
   "display_name": "Python 3",
   "language": "python",
   "name": "python3"
  },
  "language_info": {
   "codemirror_mode": {
    "name": "ipython",
    "version": 3
   },
   "file_extension": ".py",
   "mimetype": "text/x-python",
   "name": "python",
   "nbconvert_exporter": "python",
   "pygments_lexer": "ipython3",
   "version": "3.6.0"
  }
 },
 "nbformat": 4,
 "nbformat_minor": 1
}
