{
 "cells": [
  {
   "cell_type": "markdown",
   "metadata": {},
   "source": [
    "The task is searching for the file's data in another excel files and combine and write a search result into a new excel file"
   ]
  },
  {
   "cell_type": "code",
   "execution_count": 1,
   "metadata": {},
   "outputs": [],
   "source": [
    "import pandas as pd\n",
    "import numpy as np\n"
   ]
  },
  {
   "cell_type": "code",
   "execution_count": 2,
   "metadata": {},
   "outputs": [],
   "source": [
    "# original data\n",
    "df1 = pd.read_excel('C:\\\\Users\\Documents\\dwg\\\\UGV\\Проект\\VIII variant\\\\rev 1\\\\atx_c.xlsx')\n",
    "df1 = df1.fillna(\"-\")\n"
   ]
  },
  {
   "cell_type": "code",
   "execution_count": 3,
   "metadata": {
    "collapsed": true
   },
   "outputs": [],
   "source": [
    "# file where searching for data\n",
    "search_way = 'C:\\\\Users\\Documents\\dwg\\\\UGV\\Проект\\VII variant\\\\all eqs work.xlsx'\n",
    "df2 = pd.read_excel(search_way, sheet_name = 'spec', skipinitialspace = True)"
   ]
  },
  {
   "cell_type": "code",
   "execution_count": 4,
   "metadata": {
    "collapsed": true
   },
   "outputs": [],
   "source": [
    "# make a new column using a key with different header names\n",
    "rename_dict = df2.set_index('name').to_dict()['unit']\n",
    "df1['unit'] = df1['name'].replace(rename_dict)"
   ]
  },
  {
   "cell_type": "code",
   "execution_count": 5,
   "metadata": {
    "collapsed": true
   },
   "outputs": [],
   "source": [
    "l = list([i for i in df2['name']])\n",
    "ind = {}\n",
    "\n",
    "for i in df1['name']:\n",
    "    if i not in l:\n",
    "        ind[i] = None\n"
   ]
  },
  {
   "cell_type": "code",
   "execution_count": 6,
   "metadata": {
    "collapsed": true
   },
   "outputs": [],
   "source": [
    "df1['unit'] = df1['unit'].replace(ind)\n",
    "\n"
   ]
  },
  {
   "cell_type": "code",
   "execution_count": 7,
   "metadata": {},
   "outputs": [],
   "source": [
    "df1.to_excel('C:\\\\Users\\Documents\\dwg\\\\UGV\\Проект\\VIII variant\\\\rev 1\\search result.xlsx')"
   ]
  }
 ],
 "metadata": {
  "kernelspec": {
   "display_name": "Python 3",
   "language": "python",
   "name": "python3"
  },
  "language_info": {
   "codemirror_mode": {
    "name": "ipython",
    "version": 3
   },
   "file_extension": ".py",
   "mimetype": "text/x-python",
   "name": "python",
   "nbconvert_exporter": "python",
   "pygments_lexer": "ipython3",
   "version": "3.6.0"
  }
 },
 "nbformat": 4,
 "nbformat_minor": 1
}
