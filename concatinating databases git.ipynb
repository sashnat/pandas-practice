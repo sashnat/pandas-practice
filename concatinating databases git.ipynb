{
 "cells": [
  {
   "cell_type": "code",
   "execution_count": 1,
   "metadata": {
    "collapsed": true
   },
   "outputs": [],
   "source": [
    "import pandas as pd\n",
    "import numpy as np\n"
   ]
  },
  {
   "cell_type": "code",
   "execution_count": 2,
   "metadata": {
    "collapsed": true
   },
   "outputs": [],
   "source": [
    "table = r'C:\\Users\\Documents\\dwg\\all eqs.xlsx'\n",
    "df_1 = pd.read_excel(table, sheet_name = 'Sheet1') #, skipinitialspace = True)\n"
   ]
  },
  {
   "cell_type": "code",
   "execution_count": 3,
   "metadata": {},
   "outputs": [],
   "source": [
    "df_2 = pd.read_excel(table, sheet_name = 'Sheet2') #, skipinitialspace = True)"
   ]
  },
  {
   "cell_type": "code",
   "execution_count": 4,
   "metadata": {},
   "outputs": [],
   "source": [
    "df_3 = pd.read_excel(table, sheet_name = 'Sheet3') #, skipinitialspace = True)\n"
   ]
  },
  {
   "cell_type": "code",
   "execution_count": 5,
   "metadata": {},
   "outputs": [],
   "source": [
    "df_4 = pd.read_excel(table, sheet_name = 'Sheet4') #, skipinitialspace = True)"
   ]
  },
  {
   "cell_type": "heading",
   "metadata": {},
   "level": 1,
   "source": [
    "1st variant"
   ]
  },
  {
   "cell_type": "code",
   "execution_count": 6,
   "metadata": {},
   "outputs": [],
   "source": [
    "list_df = []\n",
    "for i in range(1,5):\n",
    "\n",
    "    dfn = pd.read_excel(table, sheet_name=\"Sheet{}\".format(i))\n",
    "    list_df.append(dfn)\n",
    "    \n",
    "df_c = pd.concat(list_df, sort = True)\n",
    "\n",
    "df_c['-'] = ['^^^' for i in range(len(df_c))]\n",
    "df_c['name_model'] = df_c[['name', '-', 'model']].astype(str).sum(axis=1)\n",
    "df_c = df_c.fillna({'q-ty1':0,'q-ty2':0,'q-ty3':0,'q-ty4':0})\n",
    "df_c['sum_m']= df_c['q-ty1'].astype(int) + df_c['q-ty2'].astype(int) + df_c['q-ty3'].astype(int) + df_c['q-ty4'].astype(int)\n",
    "\n",
    "f = {'sum_m': 'sum', 'model': 'first', 'name' : 'first', 'code' : 'first', 'customer' : 'first', 'item' : 'first', 'prod' : 'first'}\n",
    "dfc = df_c.groupby('name_model', as_index=False).agg(f)"
   ]
  },
  {
   "cell_type": "heading",
   "metadata": {},
   "level": 1,
   "source": [
    "2d variant"
   ]
  },
  {
   "cell_type": "code",
   "execution_count": 7,
   "metadata": {},
   "outputs": [],
   "source": [
    "df_1['-'] = ['$' for i in range(len(df_1))]\n",
    "df_1['name_model'] = df_1[['name', '-', 'model']].astype(str).sum(axis=1)\n",
    "df_2['-'] = ['$' for i in range(len(df_2))]\n",
    "df_2['name_model'] = df_2[['name', '-', 'model']].astype(str).sum(axis=1)\n",
    "df_3['-'] = ['$' for i in range(len(df_3))]\n",
    "df_3['name_model'] = df_3[['name', '-', 'model']].astype(str).sum(axis=1)\n",
    "df_4['-'] = ['$' for i in range(len(df_4))]\n",
    "df_4['name_model'] = df_4[['name', '-', 'model']].astype(str).sum(axis=1)"
   ]
  },
  {
   "cell_type": "code",
   "execution_count": 8,
   "metadata": {},
   "outputs": [
    {
     "data": {
      "text/plain": [
       "193"
      ]
     },
     "execution_count": 8,
     "metadata": {},
     "output_type": "execute_result"
    }
   ],
   "source": [
    "# BEST RESULT !!!!!!\n",
    "df1_2 = df_1.set_index('name_model').combine_first(df_2.set_index('name_model')).reset_index()\n",
    "df1_3 = df1_2.set_index('name_model').combine_first(df_3.set_index('name_model')).reset_index()\n",
    "df = df1_3.set_index('name_model').combine_first(df_4.set_index('name_model')).reset_index()\n",
    "len(df)"
   ]
  },
  {
   "cell_type": "code",
   "execution_count": 9,
   "metadata": {},
   "outputs": [],
   "source": [
    "df['name'] = df['name_model'].str.split('$').str[0]\n",
    "df = df.drop(['name_model','-'], axis=1)\n"
   ]
  },
  {
   "cell_type": "code",
   "execution_count": 10,
   "metadata": {},
   "outputs": [],
   "source": [
    "df = df.fillna({'q-ty1':0,'q-ty2':0,'q-ty3':0,'q-ty4':0})\n"
   ]
  },
  {
   "cell_type": "code",
   "execution_count": 11,
   "metadata": {},
   "outputs": [],
   "source": [
    "df['sum']= df['q-ty1'].astype(int) + df['q-ty2'].astype(int) + df['q-ty3'].astype(int) + df['q-ty4'].astype(int)\n"
   ]
  },
  {
   "cell_type": "heading",
   "metadata": {},
   "level": 1,
   "source": [
    "3d variant"
   ]
  },
  {
   "cell_type": "code",
   "execution_count": 12,
   "metadata": {},
   "outputs": [
    {
     "data": {
      "text/plain": [
       "193"
      ]
     },
     "execution_count": 12,
     "metadata": {},
     "output_type": "execute_result"
    }
   ],
   "source": [
    "df_1_2 = pd.merge(df_1, df_2, how = 'outer', on = 'name_model')\n",
    "df_1_3 = pd.merge(df_1_2, df_3, how = 'outer', on = 'name_model')\n",
    "dfm = pd.merge(df_1_3, df_4, how = 'outer', on = 'name_model')\n",
    "len(dfm)\n"
   ]
  },
  {
   "cell_type": "code",
   "execution_count": 13,
   "metadata": {},
   "outputs": [],
   "source": [
    "dfm['name'] = dfm['name_model'].str.split('$').str[0]\n",
    "dfm = dfm.drop(['name_model','-'], 1)\n"
   ]
  },
  {
   "cell_type": "code",
   "execution_count": 14,
   "metadata": {},
   "outputs": [],
   "source": [
    "dfm.fillna(value=0, inplace=True)"
   ]
  },
  {
   "cell_type": "code",
   "execution_count": 15,
   "metadata": {},
   "outputs": [],
   "source": [
    "#dfm = dfm.fillna({'q-ty1':0,'q-ty2':0,'q-ty3':0,'q-ty4':0})   # doesn't work"
   ]
  },
  {
   "cell_type": "code",
   "execution_count": 16,
   "metadata": {},
   "outputs": [],
   "source": [
    "dfm['sum_m'] = dfm['q-ty1'].astype(int) + dfm['q-ty2'].astype(int) + dfm['q-ty3'].astype(int) + dfm['q-ty4'].astype(int)\n"
   ]
  },
  {
   "cell_type": "code",
   "execution_count": 17,
   "metadata": {},
   "outputs": [],
   "source": [
    "writer = pd.ExcelWriter('C:\\\\Users\\E277460\\Documents\\dwg\\\\UGV\\Проект\\VII variant\\\\to compare files !!!!.xlsx', engine='xlsxwriter')\n",
    "df.to_excel(writer, sheet_name='Sheet1')\n",
    "dfm.to_excel(writer, sheet_name='Sheet2')\n",
    "dfc.to_excel(writer, sheet_name='Sheet3')\n",
    "writer.save()"
   ]
  },
  {
   "cell_type": "code",
   "execution_count": 1317,
   "metadata": {},
   "outputs": [],
   "source": []
  },
  {
   "cell_type": "code",
   "execution_count": 354,
   "metadata": {},
   "outputs": [],
   "source": []
  },
  {
   "cell_type": "code",
   "execution_count": null,
   "metadata": {},
   "outputs": [],
   "source": []
  }
 ],
 "metadata": {
  "kernelspec": {
   "display_name": "Python 2",
   "language": "python",
   "name": "python2"
  },
  "language_info": {
   "codemirror_mode": {
    "name": "ipython",
    "version": 2
   },
   "file_extension": ".py",
   "mimetype": "text/x-python",
   "name": "python",
   "nbconvert_exporter": "python",
   "pygments_lexer": "ipython2",
   "version": "2.7.6"
  }
 },
 "nbformat": 4,
 "nbformat_minor": 0
}
