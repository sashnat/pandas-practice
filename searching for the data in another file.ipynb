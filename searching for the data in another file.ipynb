{
 "cells": [
  {
   "cell_type": "markdown",
   "metadata": {},
   "source": [
    "The task is searching for the file's data in another excel files and combine and write a search result into a new excel file"
   ]
  },
  {
   "cell_type": "code",
   "execution_count": 1,
   "metadata": {},
   "outputs": [],
   "source": [
    "import pandas as pd\n",
    "import matplotlib.pyplot as plt\n",
    "import numpy as np\n",
    "import seaborn as sns\n",
    "import scipy.stats as stats\n",
    "%matplotlib inline\n"
   ]
  },
  {
   "cell_type": "code",
   "execution_count": 2,
   "metadata": {},
   "outputs": [],
   "source": [
    "import warnings\n",
    "#warnings.filterwarnings(\"ignore\")\n",
    "from sklearn import linear_model\n",
    "from sklearn.linear_model import LogisticRegression"
   ]
  },
  {
   "cell_type": "code",
   "execution_count": 3,
   "metadata": {},
   "outputs": [],
   "source": [
    "# original data\n",
    "df = pd.read_excel('C:\\\\Users\\Documents\\dwg\\\\Uzb\\equipment.xlsx')\n",
    "df = df.fillna(\"00\") #  replace all the NaN values with Zero's in columns\n",
    "#df.head(10)\n"
   ]
  },
  {
   "cell_type": "code",
   "execution_count": 4,
   "metadata": {
    "collapsed": true
   },
   "outputs": [],
   "source": [
    "# file N1 where searching for data\n",
    "way_AD = r'C:\\\\Users\\Documents\\dwg\\\\AD\\_CURRENT\\BASE_21_09_2017.xlsx'\n",
    "fields = ['FTA_b', 'IOTA']\n",
    "df_AD = pd.read_excel(way_AD, sheetname = 'база', skipinitialspace = True)\n",
    "#df_AD.head(10)"
   ]
  },
  {
   "cell_type": "code",
   "execution_count": 5,
   "metadata": {
    "collapsed": true
   },
   "outputs": [],
   "source": [
    "# file N2 where searching for data\n",
    "way_NO = r'C:\\\\Users\\Documents\\dwg\\NO\\NEW\\_26_06_2015 my.xlsx'\n",
    "fields1 = ['module', 'cabinet', 'cables', 'FTA', 'Bar']\n",
    "df_NO = pd.read_excel(way_NO, sheetname = 'подключение сигналов', skipinitialspace = True, usecols = fields1)\n",
    "#df_NO.head(10)"
   ]
  },
  {
   "cell_type": "code",
   "execution_count": 6,
   "metadata": {},
   "outputs": [],
   "source": [
    "# file N3 where searching for data\n",
    "way_GE = r'C:\\\\Users\\Documents\\dwg\\GE\\AK-72\\work current\\_База данных АК-72_25_08_14_REV-FAT 01 my.xlsx'\n",
    "df_GE = pd.read_excel(way_GE, sheetname = 'СВОДНАЯ', skipinitialspace = True)\n",
    "#df_GE.head(10)"
   ]
  },
  {
   "cell_type": "code",
   "execution_count": 7,
   "metadata": {
    "collapsed": false
   },
   "outputs": [],
   "source": [
    "# searching algorithm\n",
    "def df_X(x, y):\n",
    "    df[x] = [str(i) + x if i in y and i != '1' else 'N/A' for i in df['Model']]\n",
    "    return\n",
    "df_X('_AD project', df_AD.values)\n",
    "df_X('_NO project', df_NO.values)\n",
    "df_X('_GE project', df_GE.values)\n",
    "\n",
    "# df['AD'] = [str(i) + '__AD' if i in df_AD.values else 'N/A' for i in df['Model']]\n",
    "# df['NO'] = [str(i) + '__NO' if i in df_NO.values else 'N/A' for i in df['Model']]\n",
    "# df['GE'] = [str(i) + '__GE' if i in df_GE.values else 'N/A' for i in df['Model']]\n",
    "\n",
    "df = df.replace('N/A',np.nan) #  replace all the N/A values with NaN in columns\n",
    "#df.head(10)"
   ]
  },
  {
   "cell_type": "code",
   "execution_count": 8,
   "metadata": {
    "collapsed": false
   },
   "outputs": [
    {
     "data": {
      "text/html": [
       "<div>\n",
       "<table border=\"1\" class=\"dataframe\">\n",
       "  <thead>\n",
       "    <tr style=\"text-align: right;\">\n",
       "      <th></th>\n",
       "      <th>N</th>\n",
       "      <th>Model</th>\n",
       "      <th>Equipment</th>\n",
       "      <th>Q-ty</th>\n",
       "      <th>_AD project</th>\n",
       "      <th>_NO project</th>\n",
       "      <th>_GE project</th>\n",
       "    </tr>\n",
       "  </thead>\n",
       "  <tbody>\n",
       "    <tr>\n",
       "      <th>75</th>\n",
       "      <td>75</td>\n",
       "      <td>CC-PAIH01</td>\n",
       "      <td>HART Analog Input Module, High-Level</td>\n",
       "      <td>48</td>\n",
       "      <td>CC-PAIH01_AD project</td>\n",
       "      <td>NaN</td>\n",
       "      <td>NaN</td>\n",
       "    </tr>\n",
       "    <tr>\n",
       "      <th>79</th>\n",
       "      <td>79</td>\n",
       "      <td>CC-PAOH01</td>\n",
       "      <td>HART Analog Output Module</td>\n",
       "      <td>14</td>\n",
       "      <td>CC-PAOH01_AD project</td>\n",
       "      <td>NaN</td>\n",
       "      <td>NaN</td>\n",
       "    </tr>\n",
       "    <tr>\n",
       "      <th>82</th>\n",
       "      <td>82</td>\n",
       "      <td>CC-PDIS01</td>\n",
       "      <td>Digital Input SOE 24V Module</td>\n",
       "      <td>10</td>\n",
       "      <td>CC-PDIS01_AD project</td>\n",
       "      <td>NaN</td>\n",
       "      <td>NaN</td>\n",
       "    </tr>\n",
       "    <tr>\n",
       "      <th>83</th>\n",
       "      <td>83</td>\n",
       "      <td>CC-PDOB01</td>\n",
       "      <td>Digital Output 24V Bussed Out 32 Module</td>\n",
       "      <td>6</td>\n",
       "      <td>CC-PDOB01_AD project</td>\n",
       "      <td>NaN</td>\n",
       "      <td>NaN</td>\n",
       "    </tr>\n",
       "    <tr>\n",
       "      <th>85</th>\n",
       "      <td>85</td>\n",
       "      <td>CC-TAIX01</td>\n",
       "      <td>Analog Input IOTA, (16)</td>\n",
       "      <td>34</td>\n",
       "      <td>NaN</td>\n",
       "      <td>CC-TAIX01_NO project</td>\n",
       "      <td>NaN</td>\n",
       "    </tr>\n",
       "    <tr>\n",
       "      <th>87</th>\n",
       "      <td>87</td>\n",
       "      <td>CC-TAOX11</td>\n",
       "      <td>Analog Output IOTA, Red., (16)</td>\n",
       "      <td>7</td>\n",
       "      <td>CC-TAOX11_AD project</td>\n",
       "      <td>NaN</td>\n",
       "      <td>NaN</td>\n",
       "    </tr>\n",
       "    <tr>\n",
       "      <th>90</th>\n",
       "      <td>90</td>\n",
       "      <td>CC-TDIL01</td>\n",
       "      <td>Digital Input 24V IOTA, (32)</td>\n",
       "      <td>10</td>\n",
       "      <td>CC-TDIL01_AD project</td>\n",
       "      <td>CC-TDIL01_NO project</td>\n",
       "      <td>NaN</td>\n",
       "    </tr>\n",
       "    <tr>\n",
       "      <th>91</th>\n",
       "      <td>91</td>\n",
       "      <td>CC-TDOB01</td>\n",
       "      <td>Digital Output 24V Buss IOTA, (32)</td>\n",
       "      <td>6</td>\n",
       "      <td>CC-TDOB01_AD project</td>\n",
       "      <td>CC-TDOB01_NO project</td>\n",
       "      <td>NaN</td>\n",
       "    </tr>\n",
       "    <tr>\n",
       "      <th>101</th>\n",
       "      <td>101</td>\n",
       "      <td>CP-DYNB-AIO</td>\n",
       "      <td>16-канальная объединительная плата для C300, M...</td>\n",
       "      <td>10</td>\n",
       "      <td>NaN</td>\n",
       "      <td>NaN</td>\n",
       "      <td>CP-DYNB-AIO_GE project</td>\n",
       "    </tr>\n",
       "    <tr>\n",
       "      <th>102</th>\n",
       "      <td>102</td>\n",
       "      <td>CP-DYNA-2AIO</td>\n",
       "      <td>16-канальная объединительная плата для C300, M...</td>\n",
       "      <td>34</td>\n",
       "      <td>NaN</td>\n",
       "      <td>CP-DYNA-2AIO_NO project</td>\n",
       "      <td>CP-DYNA-2AIO_GE project</td>\n",
       "    </tr>\n",
       "  </tbody>\n",
       "</table>\n",
       "</div>"
      ],
      "text/plain": [
       "<div>\n",
       "<table border=\"1\" class=\"dataframe\">\n",
       "  <thead>\n",
       "    <tr style=\"text-align: right;\">\n",
       "      <th></th>\n",
       "      <th>N</th>\n",
       "      <th>Model</th>\n",
       "      <th>Equipment</th>\n",
       "      <th>Q-ty</th>\n",
       "      <th>_AD project</th>\n",
       "      <th>_NO project</th>\n",
       "      <th>_GE project</th>\n",
       "    </tr>\n",
       "  </thead>\n",
       "  <tbody>\n",
       "    <tr>\n",
       "      <th>75</th>\n",
       "      <td>75</td>\n",
       "      <td>CC-PAIH01</td>\n",
       "      <td>HART Analog Input Module, High-Level</td>\n",
       "      <td>48</td>\n",
       "      <td>CC-PAIH01_AD project</td>\n",
       "      <td>NaN</td>\n",
       "      <td>NaN</td>\n",
       "    </tr>\n",
       "    <tr>\n",
       "      <th>79</th>\n",
       "      <td>79</td>\n",
       "      <td>CC-PAOH01</td>\n",
       "      <td>HART Analog Output Module</td>\n",
       "      <td>14</td>\n",
       "      <td>CC-PAOH01_AD project</td>\n",
       "      <td>NaN</td>\n",
       "      <td>NaN</td>\n",
       "    </tr>\n",
       "    <tr>\n",
       "      <th>82</th>\n",
       "      <td>82</td>\n",
       "      <td>CC-PDIS01</td>\n",
       "      <td>Digital Input SOE 24V Module</td>\n",
       "      <td>10</td>\n",
       "      <td>CC-PDIS01_AD project</td>\n",
       "      <td>NaN</td>\n",
       "      <td>NaN</td>\n",
       "    </tr>\n",
       "    <tr>\n",
       "      <th>83</th>\n",
       "      <td>83</td>\n",
       "      <td>CC-PDOB01</td>\n",
       "      <td>Digital Output 24V Bussed Out 32 Module</td>\n",
       "      <td>6</td>\n",
       "      <td>CC-PDOB01_AD project</td>\n",
       "      <td>NaN</td>\n",
       "      <td>NaN</td>\n",
       "    </tr>\n",
       "    <tr>\n",
       "      <th>85</th>\n",
       "      <td>85</td>\n",
       "      <td>CC-TAIX01</td>\n",
       "      <td>Analog Input IOTA, (16)</td>\n",
       "      <td>34</td>\n",
       "      <td>NaN</td>\n",
       "      <td>CC-TAIX01_NO project</td>\n",
       "      <td>NaN</td>\n",
       "    </tr>\n",
       "    <tr>\n",
       "      <th>87</th>\n",
       "      <td>87</td>\n",
       "      <td>CC-TAOX11</td>\n",
       "      <td>Analog Output IOTA, Red., (16)</td>\n",
       "      <td>7</td>\n",
       "      <td>CC-TAOX11_AD project</td>\n",
       "      <td>NaN</td>\n",
       "      <td>NaN</td>\n",
       "    </tr>\n",
       "    <tr>\n",
       "      <th>90</th>\n",
       "      <td>90</td>\n",
       "      <td>CC-TDIL01</td>\n",
       "      <td>Digital Input 24V IOTA, (32)</td>\n",
       "      <td>10</td>\n",
       "      <td>CC-TDIL01_AD project</td>\n",
       "      <td>CC-TDIL01_NO project</td>\n",
       "      <td>NaN</td>\n",
       "    </tr>\n",
       "    <tr>\n",
       "      <th>91</th>\n",
       "      <td>91</td>\n",
       "      <td>CC-TDOB01</td>\n",
       "      <td>Digital Output 24V Buss IOTA, (32)</td>\n",
       "      <td>6</td>\n",
       "      <td>CC-TDOB01_AD project</td>\n",
       "      <td>CC-TDOB01_NO project</td>\n",
       "      <td>NaN</td>\n",
       "    </tr>\n",
       "    <tr>\n",
       "      <th>101</th>\n",
       "      <td>101</td>\n",
       "      <td>CP-DYNB-AIO</td>\n",
       "      <td>16-канальная объединительная плата для C300, M...</td>\n",
       "      <td>10</td>\n",
       "      <td>NaN</td>\n",
       "      <td>NaN</td>\n",
       "      <td>CP-DYNB-AIO_GE project</td>\n",
       "    </tr>\n",
       "    <tr>\n",
       "      <th>102</th>\n",
       "      <td>102</td>\n",
       "      <td>CP-DYNA-2AIO</td>\n",
       "      <td>16-канальная объединительная плата для C300, M...</td>\n",
       "      <td>34</td>\n",
       "      <td>NaN</td>\n",
       "      <td>CP-DYNA-2AIO_NO project</td>\n",
       "      <td>CP-DYNA-2AIO_GE project</td>\n",
       "    </tr>\n",
       "  </tbody>\n",
       "</table>\n",
       "</div>"
      ]
     },
     "execution_count": 8,
     "metadata": {},
     "output_type": "execute_result"
    }
   ],
   "source": [
    "df_result = df.dropna(thresh = 5) # Drop row if it does not have at least 5 values that are **not** NaN\n",
    "df_result.head(10)\n"
   ]
  },
  {
   "cell_type": "code",
   "execution_count": 9,
   "metadata": {},
   "outputs": [],
   "source": [
    "df_result.to_excel('C:\\\\Users\\Documents\\dwg\\\\Uzb\\search result.xlsx')"
   ]
  },
  {
   "cell_type": "code",
   "execution_count": 10,
   "metadata": {},
   "outputs": [],
   "source": [
    "# df.dropna()     #drop all rows that have any NaN values\n"
   ]
  },
  {
   "cell_type": "code",
   "execution_count": 11,
   "metadata": {},
   "outputs": [],
   "source": [
    "# df.dropna(how='all')     #drop only if ALL columns are NaN"
   ]
  },
  {
   "cell_type": "code",
   "execution_count": 12,
   "metadata": {},
   "outputs": [],
   "source": [
    "# df.dropna(subset=[1])   #Drop only if NaN in specific column\n"
   ]
  },
  {
   "cell_type": "code",
   "execution_count": 13,
   "metadata": {},
   "outputs": [],
   "source": [
    "# df.dropna(thresh=2)   #Drop row if it does not have at least two values that are **not** NaN"
   ]
  },
  {
   "cell_type": "code",
   "execution_count": null,
   "metadata": {},
   "outputs": [],
   "source": []
  }
 ],
 "metadata": {
  "kernelspec": {
   "display_name": "Python 3",
   "language": "python",
   "name": "python3"
  },
  "language_info": {
   "codemirror_mode": {
    "name": "ipython",
    "version": 3
   },
   "file_extension": ".py",
   "mimetype": "text/x-python",
   "name": "python",
   "nbconvert_exporter": "python",
   "pygments_lexer": "ipython3",
   "version": "3.6.0"
  }
 },
 "nbformat": 4,
 "nbformat_minor": 1
}
